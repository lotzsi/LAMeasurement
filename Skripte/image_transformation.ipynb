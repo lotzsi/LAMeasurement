{
 "cells": [
  {
   "cell_type": "code",
   "execution_count": 1,
   "metadata": {},
   "outputs": [],
   "source": [
    "# dependencies\n",
    "import cv2\n",
    "import numpy as np"
   ]
  },
  {
   "cell_type": "code",
   "execution_count": 2,
   "metadata": {},
   "outputs": [],
   "source": [
    "# input and output file names\n",
    "file_name_in = 'DSC03384.JPG'\n",
    "file_name_out = 'DSC03384_warped.JPG'\n",
    "\n",
    "path_in = '/mnt/gsdata/users/jaksztat/Work/Projects/DL_for_LAI_from_UAV_LiDAR/05_Validation_Data/Leaf_Area_Measurement/'\n",
    "path_out = path_in\n",
    "\n",
    "# horizontal and vertical distances between ArUco markers (mm, outer corners)\n",
    "# algorithm sorts corner ids (ascending) and transforms images that lowest id is at upper-left corner. No manual image rotations necessary \n",
    "#width_mm = 197\n",
    "width_mm = 980\n",
    "#height_mm = 286\n",
    "height_mm = 1980"
   ]
  },
  {
   "cell_type": "code",
   "execution_count": 3,
   "metadata": {},
   "outputs": [],
   "source": [
    "# read image\n",
    "image = cv2.imread(path_in + file_name_in)\n",
    "\n",
    "# load ArUco markers dictionary\n",
    "aruco_dict = cv2.aruco.getPredefinedDictionary(cv2.aruco.DICT_4X4_50)\n",
    "parameters = cv2.aruco.DetectorParameters()\n",
    "detector = cv2.aruco.ArucoDetector(aruco_dict, parameters)\n",
    "\n",
    "# detect ArUco markers in the image\n",
    "gray = cv2.cvtColor(image, cv2.COLOR_BGR2GRAY)\n",
    "corners, ids, _ = detector.detectMarkers(gray)\n",
    "\n",
    "if ids is not None and len(ids) == 4:\n",
    "    # calculate centroids of little squares\n",
    "    quadrilateral_centroids = []\n",
    "    for quadrilateral in corners:\n",
    "        points = quadrilateral[0]\n",
    "        centroid = np.mean(points, axis=0)\n",
    "        quadrilateral_centroids.append(centroid)\n",
    "    quadrilateral_centroids = np.array(quadrilateral_centroids)\n",
    "\n",
    "    # calculate overall centroid\n",
    "    overall_centroid = np.mean(quadrilateral_centroids, axis=0)\n",
    "\n",
    "    # detect corners of large rectangle\n",
    "    large_quad_corners = []\n",
    "    \n",
    "    for i, quadrilateral in enumerate(corners):\n",
    "        points = quadrilateral[0]\n",
    "        q_centroid = quadrilateral_centroids[i]\n",
    "        direction_vector = q_centroid - overall_centroid\n",
    "        direction_vector /= np.linalg.norm(direction_vector)  # normalisation\n",
    "        # project points on direction vector\n",
    "        vectors = points - overall_centroid\n",
    "        projections = np.dot(vectors, direction_vector)\n",
    "        max_index = np.argmax(projections)\n",
    "        #min_index = np.argmin(projections)\n",
    "        large_quad_corners.append(points[max_index])\n",
    "\n",
    "    large_quad_corners = np.array(large_quad_corners)\n",
    "\n",
    "    sorted_indices = np.argsort(ids, axis=None)\n",
    "    pts_src = large_quad_corners[sorted_indices]\n",
    "\n",
    "    # define target points for user-specific size (e.g., DIN A4: 210 mm x 297 mm) (test: 197 mm x 286 mm)\n",
    "    dpi = 72\n",
    "    width, height = round(width_mm * dpi/25.4), round(height_mm * dpi/25.4) \n",
    "    pts_dst = np.array([\n",
    "        [0, 0],\n",
    "        [width - 1, 0],\n",
    "        [width - 1, height - 1],\n",
    "        [0, height - 1]\n",
    "    ], dtype=\"float32\")\n",
    "\n",
    "    # perform perspective transformation\n",
    "    M = cv2.getPerspectiveTransform(pts_src, pts_dst)\n",
    "    warped = cv2.warpPerspective(image, M, (width, height))\n",
    "\n",
    "    # write image\n",
    "    cv2.imwrite(path_out + file_name_out, warped)\n",
    "else:\n",
    "    print(\"Not all ArUco markers detected.\")\n",
    "    print(len(corners))\n",
    "    print(ids)"
   ]
  },
  {
   "cell_type": "code",
   "execution_count": null,
   "metadata": {},
   "outputs": [],
   "source": []
  }
 ],
 "metadata": {
  "kernelspec": {
   "display_name": "opencv",
   "language": "python",
   "name": "python3"
  },
  "language_info": {
   "codemirror_mode": {
    "name": "ipython",
    "version": 3
   },
   "file_extension": ".py",
   "mimetype": "text/x-python",
   "name": "python",
   "nbconvert_exporter": "python",
   "pygments_lexer": "ipython3",
   "version": "3.12.5"
  }
 },
 "nbformat": 4,
 "nbformat_minor": 2
}
