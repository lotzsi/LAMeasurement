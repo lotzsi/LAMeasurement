{
 "cells": [
  {
   "cell_type": "code",
   "execution_count": 1,
   "metadata": {},
   "outputs": [],
   "source": [
    "import cv2\n",
    "import numpy as np\n",
    "\n",
    "def segment_objects(image_path, write_file=True):\n",
    "    # load image\n",
    "    image = cv2.imread(image_path)\n",
    "    \n",
    "    # convert to HSV color space\n",
    "    hsv = cv2.cvtColor(image, cv2.COLOR_BGR2HSV) # opencv internally uses BGR instead of RGB\n",
    "    \n",
    "    # define thresholds for background (white/grey)\n",
    "    lower_bound = np.array([0, 0, 180]) \n",
    "    upper_bound = np.array([180, 50, 255])\n",
    "    \n",
    "    # create mask for background\n",
    "    mask = cv2.inRange(hsv, lower_bound, upper_bound)\n",
    "    \n",
    "    # invert mask for object isolation\n",
    "    mask_inv = cv2.bitwise_not(mask)\n",
    "    \n",
    "    # refine mask with morphologic operations\n",
    "    kernel = np.ones((3,3),np.uint8)\n",
    "    mask_inv = cv2.morphologyEx(mask_inv, cv2.MORPH_CLOSE, kernel)\n",
    "    mask_inv = cv2.morphologyEx(mask_inv, cv2.MORPH_OPEN, kernel)\n",
    "    \n",
    "    # appy mask on original image\n",
    "    segmented = cv2.bitwise_and(image, image, mask=mask_inv)\n",
    "    \n",
    "    if write_file:\n",
    "        # write segemented image\n",
    "        cv2.imwrite(path_out, segmented)\n",
    "    \n",
    "    return(mask_inv)\n",
    "\n",
    "# set paths\n",
    "file_name_in = 'Test7_1_warped.jpg'\n",
    "file_name_out = 'Test7_1_warped_segmented.jpg'\n",
    "path_in = '/mnt/gsdata/users/jaksztat/Work/Projects/DL_for_LAI_from_UAV_LiDAR/05_Validation_Data/Leaf_Area_Measurement/' + file_name_in\n",
    "path_out = '/mnt/gsdata/users/jaksztat/Work/Projects/DL_for_LAI_from_UAV_LiDAR/05_Validation_Data/Leaf_Area_Measurement/' + file_name_out\n",
    "\n",
    "\n",
    "# call segmentation\n",
    "test = segment_objects(path_in)"
   ]
  },
  {
   "cell_type": "code",
   "execution_count": 7,
   "metadata": {},
   "outputs": [
    {
     "data": {
      "text/plain": [
       "UniqueCountsResult(values=array([  0, 255], dtype=uint8), counts=array([  6392, 494598]))"
      ]
     },
     "execution_count": 7,
     "metadata": {},
     "output_type": "execute_result"
    }
   ],
   "source": [
    "np.unique_counts(test)"
   ]
  },
  {
   "cell_type": "code",
   "execution_count": 30,
   "metadata": {},
   "outputs": [
    {
     "data": {
      "text/plain": [
       "np.float64(11784.508884360088)"
      ]
     },
     "execution_count": 30,
     "metadata": {},
     "output_type": "execute_result"
    }
   ],
   "source": [
    "# image dimension appr. 208mm x 295mm\n",
    "measured = np.sum(test == 255) * (208*295)/(test.shape[0] * test.shape[1])\n",
    "measured"
   ]
  },
  {
   "cell_type": "code",
   "execution_count": 31,
   "metadata": {},
   "outputs": [
    {
     "data": {
      "text/plain": [
       "12226.54824574367"
      ]
     },
     "execution_count": 31,
     "metadata": {},
     "output_type": "execute_result"
    }
   ],
   "source": [
    "# check (4 circels with 40mm diameter, 3 rectangles 40mm x 60mm)\n",
    "real = 4* np.pi * 400 + 3 * 40 * 60\n",
    "real"
   ]
  },
  {
   "cell_type": "code",
   "execution_count": 29,
   "metadata": {},
   "outputs": [
    {
     "data": {
      "text/plain": [
       "np.float64(-3.6154060205623924)"
      ]
     },
     "execution_count": 29,
     "metadata": {},
     "output_type": "execute_result"
    }
   ],
   "source": [
    "# relative error [%]\n",
    "(measured-real)/real * 100"
   ]
  }
 ],
 "metadata": {
  "kernelspec": {
   "display_name": "opencv",
   "language": "python",
   "name": "python3"
  },
  "language_info": {
   "codemirror_mode": {
    "name": "ipython",
    "version": 3
   },
   "file_extension": ".py",
   "mimetype": "text/x-python",
   "name": "python",
   "nbconvert_exporter": "python",
   "pygments_lexer": "ipython3",
   "version": "3.12.5"
  }
 },
 "nbformat": 4,
 "nbformat_minor": 2
}
